{
 "cells": [
  {
   "cell_type": "code",
   "execution_count": 1,
   "id": "0d685edf-3508-44c2-95d1-373f571a453d",
   "metadata": {},
   "outputs": [],
   "source": [
    "#import pickle ,portstemmer, re.\n",
    "import pickle\n",
    "from nltk.stem.porter import PorterStemmer\n",
    "import re"
   ]
  },
  {
   "cell_type": "code",
   "execution_count": 2,
   "id": "74087143-438c-4a20-8550-aaf877fe3bb6",
   "metadata": {},
   "outputs": [],
   "source": [
    "from nltk.corpus import stopwords"
   ]
  },
  {
   "cell_type": "code",
   "execution_count": 3,
   "id": "8fd301c3-0749-4e8a-aabb-38faa5fb9267",
   "metadata": {},
   "outputs": [
    {
     "name": "stderr",
     "output_type": "stream",
     "text": [
      "[nltk_data] Downloading package stopwords to C:\\Users\\Navaneeth Gowda\n",
      "[nltk_data]     T\\AppData\\Roaming\\nltk_data...\n",
      "[nltk_data]   Package stopwords is already up-to-date!\n"
     ]
    },
    {
     "data": {
      "text/plain": [
       "True"
      ]
     },
     "execution_count": 3,
     "metadata": {},
     "output_type": "execute_result"
    }
   ],
   "source": [
    "#Download stopwords\n",
    "import nltk \n",
    "nltk.download('stopwords')"
   ]
  },
  {
   "cell_type": "code",
   "execution_count": 5,
   "id": "ef3e498d-ff24-49bb-bdb3-1603990faa95",
   "metadata": {},
   "outputs": [],
   "source": [
    "# Loading the saved model and vectorizer into the notebook.\n",
    "loaded_model = pickle.load(open('trained_model.sav', 'rb'))\n",
    "\n",
    "# Load the saved vectorizer\n",
    "loaded_vectorizer = pickle.load(open(\"vectorizer_pickle.sav\", \"rb\"))\n"
   ]
  },
  {
   "cell_type": "code",
   "execution_count": 6,
   "id": "77fcb79e-ecae-47d5-a268-a76487645f98",
   "metadata": {},
   "outputs": [],
   "source": [
    "#Stemming function for input given by the user.\n",
    "port_stem=PorterStemmer()\n",
    "def stemming(content):\n",
    "    stemmed_content=re.sub('[^a-zA-Z]',' ', content)\n",
    "    stemmed_content=stemmed_content.lower()\n",
    "    stemmed_content=stemmed_content.split()\n",
    "    stemmed_content=[port_stem.stem(word) for word in stemmed_content if not word in stopwords.words('english')]\n",
    "    stemmed_content=' '.join(stemmed_content)\n",
    "    \n",
    "    return stemmed_content\n"
   ]
  },
  {
   "cell_type": "code",
   "execution_count": 7,
   "id": "6bedfc96-1675-40b4-80fc-febe7a35dc11",
   "metadata": {},
   "outputs": [],
   "source": [
    "#Function to predict sentiment of the keyword the user has give.\n",
    "def predict_sentiment(user_input):\n",
    "    # Preprocess the user input\n",
    "    stemmed_input = stemming(user_input)\n",
    "    # Convert the preprocessed input to a format compatible with the model\n",
    "    processed_input = loaded_vectorizer.transform([stemmed_input])\n",
    "    # Use the model to predict the sentiment of the user input\n",
    "    sentiment_prediction = loaded_model.predict(processed_input)\n",
    "    return sentiment_prediction[0]"
   ]
  },
  {
   "cell_type": "code",
   "execution_count": null,
   "id": "3109b4e4-231c-4540-bfce-945ff5676c67",
   "metadata": {},
   "outputs": [],
   "source": [
    "#input and output\n",
    "# 0 is negative.\n",
    "# 1 is positive.\n",
    "#This is where the user gives in the input.\n",
    "user_input = input(\"Please enter a sentence: \")\n",
    "print(predict_sentiment(user_input))"
   ]
  }
 ],
 "metadata": {
  "kernelspec": {
   "display_name": "Python 3 (ipykernel)",
   "language": "python",
   "name": "python3"
  },
  "language_info": {
   "codemirror_mode": {
    "name": "ipython",
    "version": 3
   },
   "file_extension": ".py",
   "mimetype": "text/x-python",
   "name": "python",
   "nbconvert_exporter": "python",
   "pygments_lexer": "ipython3",
   "version": "3.11.5"
  }
 },
 "nbformat": 4,
 "nbformat_minor": 5
}
