{
 "cells": [
  {
   "cell_type": "code",
   "execution_count": 2,
   "id": "76f8803b",
   "metadata": {},
   "outputs": [
    {
     "name": "stdout",
     "output_type": "stream",
     "text": [
      "Sentiment(polarity=1.0, subjectivity=1.0)\n",
      "Sentiment(polarity=0.8, subjectivity=0.775)\n",
      "Sentiment(polarity=0.6666666666666666, subjectivity=0.6666666666666666)\n",
      "Sentiment(polarity=0.875, subjectivity=0.8)\n",
      "Sentiment(polarity=-0.6999999999999998, subjectivity=0.6666666666666666)\n",
      "Sentiment(polarity=0.5, subjectivity=0.5)\n",
      "Sentiment(polarity=0.2, subjectivity=0.2)\n"
     ]
    }
   ],
   "source": [
    "from textblob import TextBlob\n",
    "\n",
    "# Your training data\n",
    "reviews = [\"This was really awesome an awesome movie\",\n",
    "           \"Great movie! I liked it a lot\",\n",
    "           \"Happy Ending! Awesome Acting by hero\",\n",
    "           \"loved it!\",\n",
    "           \"Bad not upto the mark\",\n",
    "           \"Could have been better\",\n",
    "           \"really Dissapointed by the movie\"]\n",
    "\n",
    "# Use TextBlob to calculate sentiment\n",
    "for review in reviews:\n",
    "    blob = TextBlob(review)\n",
    "    print(blob.sentiment)"
   ]
  },
  {
   "cell_type": "code",
   "execution_count": 3,
   "id": "c3b94cf2",
   "metadata": {
    "scrolled": true
   },
   "outputs": [
    {
     "name": "stdout",
     "output_type": "stream",
     "text": [
      "{'neg': 0.655, 'neu': 0.345, 'pos': 0.0, 'compound': -0.8218}\n",
      "{'neg': 0.201, 'neu': 0.381, 'pos': 0.418, 'compound': 0.5076}\n",
      "{'neg': 0.0, 'neu': 0.204, 'pos': 0.796, 'compound': 0.9134}\n",
      "{'neg': 0.818, 'neu': 0.182, 'pos': 0.0, 'compound': -0.6696}\n",
      "{'neg': 0.0, 'neu': 1.0, 'pos': 0.0, 'compound': 0.0}\n",
      "{'neg': 0.445, 'neu': 0.555, 'pos': 0.0, 'compound': -0.3412}\n",
      "{'neg': 0.0, 'neu': 0.589, 'pos': 0.411, 'compound': 0.4201}\n"
     ]
    },
    {
     "name": "stderr",
     "output_type": "stream",
     "text": [
      "[nltk_data] Downloading package vader_lexicon to C:\\Users\\Navaneeth\n",
      "[nltk_data]     Gowda T\\AppData\\Roaming\\nltk_data...\n",
      "[nltk_data]   Package vader_lexicon is already up-to-date!\n"
     ]
    }
   ],
   "source": [
    "from nltk.sentiment.vader import SentimentIntensityAnalyzer\n",
    "import nltk\n",
    "nltk.download('vader_lexicon')\n",
    "\n",
    "# Your training data\n",
    "reviews = [\"This was really bad bad movie\",\n",
    "           \"Great movie! I  did not like it \",\n",
    "           \"Happy Ending! Awesome Acting by hero\",\n",
    "           \"Hated it!\",\n",
    "           \"But upto the mark\",\n",
    "           \"Couldn't have been better\",\n",
    "           \"really encouraged by the movie\"]\n",
    "\n",
    "# Use Vader to calculate sentiment\n",
    "sia = SentimentIntensityAnalyzer()\n",
    "for review in reviews:\n",
    "    print(sia.polarity_scores(review))\n"
   ]
  }
 ],
 "metadata": {
  "kernelspec": {
   "display_name": "Python 3 (ipykernel)",
   "language": "python",
   "name": "python3"
  },
  "language_info": {
   "codemirror_mode": {
    "name": "ipython",
    "version": 3
   },
   "file_extension": ".py",
   "mimetype": "text/x-python",
   "name": "python",
   "nbconvert_exporter": "python",
   "pygments_lexer": "ipython3",
   "version": "3.11.5"
  }
 },
 "nbformat": 4,
 "nbformat_minor": 5
}
