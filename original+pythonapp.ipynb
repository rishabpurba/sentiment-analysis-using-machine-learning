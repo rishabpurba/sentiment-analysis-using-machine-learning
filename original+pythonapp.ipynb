{
 "cells": [
  {
   "cell_type": "code",
   "execution_count": 3,
   "id": "dfc6a1ce-5d45-4f12-a82d-a6d2b45f3cdb",
   "metadata": {},
   "outputs": [
    {
     "name": "stdout",
     "output_type": "stream",
     "text": [
      "Note: you may need to restart the kernel to use updated packages.\n"
     ]
    },
    {
     "name": "stderr",
     "output_type": "stream",
     "text": [
      "ERROR: Could not find a version that satisfies the requirement cv2 (from versions: none)\n",
      "ERROR: No matching distribution found for cv2\n"
     ]
    }
   ],
   "source": [
    "pip install cv2"
   ]
  },
  {
   "cell_type": "code",
   "execution_count": 2,
   "id": "42aa4efc",
   "metadata": {},
   "outputs": [
    {
     "name": "stderr",
     "output_type": "stream",
     "text": [
      "[nltk_data] Downloading package stopwords to C:\\Users\\Navaneeth Gowda\n",
      "[nltk_data]     T\\AppData\\Roaming\\nltk_data...\n",
      "[nltk_data]   Package stopwords is already up-to-date!\n"
     ]
    },
    {
     "name": "stdin",
     "output_type": "stream",
     "text": [
      "Enter a keyword to check its sentiment:  horrible\n"
     ]
    },
    {
     "name": "stdout",
     "output_type": "stream",
     "text": [
      "The sentiment of the keyword 'horrible' is: positive\n"
     ]
    }
   ],
   "source": [
    "#In this the Original source Model contains front end to ask user input keyword and checks the sentiment of that from the given \n",
    "#data. \n",
    "import pandas as pd\n",
    "import numpy as np\n",
    "import os\n",
    "import json\n",
    "from nltk.tokenize import RegexpTokenizer\n",
    "from nltk.stem.porter import PorterStemmer\n",
    "from nltk.corpus import stopwords\n",
    "import nltk\n",
    "from sklearn.feature_extraction.text import CountVectorizer\n",
    "from sklearn.naive_bayes import MultinomialNB\n",
    "from sklearn.metrics import accuracy_score\n",
    "\n",
    "nltk.download('stopwords')\n",
    "\n",
    "tokenizer = RegexpTokenizer(r\"\\w+\")\n",
    "en_stopwords = set(stopwords.words('english'))\n",
    "ps = PorterStemmer()\n",
    "\n",
    "def getCleanedText(text):\n",
    "    text = text.lower()\n",
    "    tokens = tokenizer.tokenize(text)\n",
    "    new_tokens = [token for token in tokens if token not in en_stopwords]\n",
    "    stemmed_tokens = [ps.stem(tokens) for tokens in new_tokens]\n",
    "    clean_text = \" \".join(stemmed_tokens)\n",
    "    return clean_text\n",
    "\n",
    "X_train = [\"This was really awesome an awesome movie\",\n",
    "           \"Great movie! Ilikes it a lot\",\n",
    "           \"Happy Ending! Awesome Acting by hero\",\n",
    "           \"loved it!\",\n",
    "           \"Bad not upto the mark\",\n",
    "           \"Could have been better\",\n",
    "           \"really Dissapointed by the movie\"]\n",
    "\n",
    "y_train = [\"positive\",\"positive\",\"positive\",\"positive\",\"negative\",\"negative\",\"negative\"]\n",
    "\n",
    "X_clean = [getCleanedText(i) for i in X_train]\n",
    "\n",
    "cv = CountVectorizer(ngram_range = (1,2))\n",
    "X_vec = cv.fit_transform(X_clean).toarray()\n",
    "\n",
    "mn = MultinomialNB()\n",
    "mn.fit(X_vec, y_train)\n",
    "\n",
    "# Get user input\n",
    "user_input = input(\"Enter a keyword to check its sentiment: \")\n",
    "X_test = [user_input]\n",
    "xt_clean = [getCleanedText(i) for i in X_test]\n",
    "Xt_vect = cv.transform(xt_clean).toarray()\n",
    "\n",
    "# Predict sentiment\n",
    "y_pred = mn.predict(Xt_vect)\n",
    "\n",
    "print(f\"The sentiment of the keyword '{user_input}' is: {y_pred[0]}\")\n"
   ]
  },
  {
   "cell_type": "code",
   "execution_count": 29,
   "id": "4aebe649-5e74-4b31-b660-96d83b7f78f2",
   "metadata": {},
   "outputs": [
    {
     "name": "stdout",
     "output_type": "stream",
     "text": [
      "The accuracy of the model is: 0.6666666666666666\n"
     ]
    }
   ],
   "source": [
    "from sklearn.metrics import accuracy_score\n",
    "\n",
    "X_test = [\"I really liked the movie\", \"It was not good\", \"Could have been better\"]\n",
    "y_test = [\"positive\", \"negative\", \"negative\"]\n",
    "\n",
    "Xt_clean = [getCleanedText(i) for i in X_test]\n",
    "Xt_vect = cv.transform(Xt_clean).toarray()\n",
    "\n",
    "# Predict sentiment for the test dataset\n",
    "yt_pred = mn.predict(Xt_vect)\n",
    "\n",
    "# Calculate accuracy\n",
    "accuracy = accuracy_score(y_test, yt_pred)\n",
    "\n",
    "print(f\"The accuracy of the model is: {accuracy}\")\n"
   ]
  }
 ],
 "metadata": {
  "kernelspec": {
   "display_name": "Python 3 (ipykernel)",
   "language": "python",
   "name": "python3"
  },
  "language_info": {
   "codemirror_mode": {
    "name": "ipython",
    "version": 3
   },
   "file_extension": ".py",
   "mimetype": "text/x-python",
   "name": "python",
   "nbconvert_exporter": "python",
   "pygments_lexer": "ipython3",
   "version": "3.11.5"
  }
 },
 "nbformat": 4,
 "nbformat_minor": 5
}
